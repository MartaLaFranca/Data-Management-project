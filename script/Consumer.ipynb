{
 "cells": [
  {
   "cell_type": "code",
   "execution_count": null,
   "metadata": {},
   "outputs": [],
   "source": [
    "from kafka import KafkaConsumer\n",
    "import json\n",
    "import pandas as pd\n",
    "from json import loads\n",
    "from pymongo import MongoClient"
   ]
  },
  {
   "cell_type": "code",
   "execution_count": null,
   "metadata": {},
   "outputs": [],
   "source": [
    " consumer = KafkaConsumer(\n",
    "            bootstrap_servers=[\"127.0.0.1:9092\"],\n",
    "            auto_offset_reset=\"latest\",\n",
    "            value_deserializer=lambda v: json.loads(v.decode(\"utf-8\")))\n",
    "        consumer.subscribe(['reddit'])\n",
    "        \n",
    "    #creo un empty dataframe\n",
    "    submission=pd.DataFrame()\n",
    "    \n",
    "    def __run_reddit(self):\n",
    "        \"\"\"\n",
    "        Start to read from topic and send them to data_manager\n",
    "        \"\"\"\n",
    "        for i in range(0, 1320):\n",
    "            df_def=df\n",
    "            reddit_json=df_def.loc[i*100:(i+1)*99,:].to_json(orient=\"records\",lines=True, force_ascii=False)\n",
    "            #Sent to broker\n",
    "            producer.send(topic=\"reddit\",value=reddit_json)\n",
    "            #Pseudo random waiting\n",
    "            time.sleep(random.randint(1,5))\n"
   ]
  },
  {
   "cell_type": "markdown",
   "metadata": {},
   "source": [
    "### Importo su MongoDB"
   ]
  },
  {
   "cell_type": "code",
   "execution_count": null,
   "metadata": {},
   "outputs": [],
   "source": [
    "#Rename the column 'Total No. of Comments' because it must not contain '.'       \n",
    "df_def = df_def.rename(columns={'Total No. of Comments': 'Total No of Comments'})\n",
    "df_def.to_json(\"df_def.json\",orient=\"records\")\n",
    "# Making Connection To Mongo\n",
    "myclient = MongoClient(\"mongodb://localhost:27017/\")\n",
    "# database \n",
    "db = myclient[\"DataMan\"]\n",
    "#Collection\n",
    "Collection = db[\"reddit\"]\n",
    "    \n",
    "# get collection reddit\n",
    "reddit_collection = db.get_collection(\"reddit\")\n",
    "\n",
    "# open the json file\n",
    "with open(\"df_def.json\") as f:\n",
    "    file_data = json.load(f)\n",
    "    \n",
    "# insert the data into the collection\n",
    "reddit_collection.insert_many(file_data)\n"
   ]
  },
  {
   "cell_type": "code",
   "execution_count": null,
   "metadata": {},
   "outputs": [],
   "source": [
    "#Query di prova\n",
    "reddit_collection.find_one()\n",
    "reddit_collection.find_one( {\"Score\" : 8} )"
   ]
  }
 ],
 "metadata": {
  "kernelspec": {
   "display_name": "Python 3",
   "language": "python",
   "name": "python3"
  },
  "language_info": {
   "codemirror_mode": {
    "name": "ipython",
    "version": 3
   },
   "file_extension": ".py",
   "mimetype": "text/x-python",
   "name": "python",
   "nbconvert_exporter": "python",
   "pygments_lexer": "ipython3",
   "version": "3.7.6"
  }
 },
 "nbformat": 4,
 "nbformat_minor": 4
}
