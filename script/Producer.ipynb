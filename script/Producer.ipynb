{
 "cells": [
  {
   "cell_type": "code",
   "execution_count": null,
   "metadata": {},
   "outputs": [],
   "source": [
    "from kafka import KafkaProducer\n",
    "import pandas as pd\n",
    "import json\n",
    "import time\n",
    "import random"
   ]
  },
  {
   "cell_type": "code",
   "execution_count": null,
   "metadata": {},
   "outputs": [],
   "source": [
    "    # Importazione dei dati\n",
    "    df = pd.read_csv(data, sep = \",\")\n",
    "    \n",
    "    # Creazione oggetto producer per mandare i dati a kafka\n",
    "    producer = KafkaProducer(bootstrap_servers=['localhost:9092'],\n",
    "                         value_serializer=lambda v: \n",
    "                         json.dumps(v).encode('utf-8'))\n",
    "    \n",
    "    for i in range(0, 1320):\n",
    "    df_def=df\n",
    "    reddit_json=df_def.loc[i*100:(i+1)*99,:].to_json(orient=\"records\",lines=True, force_ascii=False)\n",
    "    #Sent to broker\n",
    "    producer.send(topic=\"reddit\",value=reddit_json)\n",
    "    #Pseudo random waiting\n",
    "    time.sleep(random.randint(1,5))"
   ]
  }
 ],
 "metadata": {
  "kernelspec": {
   "display_name": "Python 3",
   "language": "python",
   "name": "python3"
  },
  "language_info": {
   "codemirror_mode": {
    "name": "ipython",
    "version": 3
   },
   "file_extension": ".py",
   "mimetype": "text/x-python",
   "name": "python",
   "nbconvert_exporter": "python",
   "pygments_lexer": "ipython3",
   "version": "3.7.6"
  }
 },
 "nbformat": 4,
 "nbformat_minor": 4
}
