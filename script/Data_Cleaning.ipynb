{
 "cells": [
  {
   "cell_type": "code",
   "execution_count": null,
   "metadata": {},
   "outputs": [],
   "source": [
    "import pandas as pd\n",
    "import re\n",
    "import numpy as np\n",
    "import nltk\n",
    "import spacy\n",
    "import string\n",
    "from emot.emo_unicode import UNICODE_EMO, EMOTICONS\n",
    "import functools\n",
    "import operator\n",
    "import emoji"
   ]
  },
  {
   "cell_type": "code",
   "execution_count": null,
   "metadata": {},
   "outputs": [],
   "source": [
    "#Importing stopwords from nltk library\n",
    "from nltk.corpus import stopwords\n",
    "STOPWORDS = set(stopwords.words('english'))"
   ]
  },
  {
   "cell_type": "code",
   "execution_count": null,
   "metadata": {},
   "outputs": [],
   "source": [
    "# add space near your emoji\n",
    "    def add_space(text):\n",
    "        return ''.join(' ' + char if is_emoji(char) else char for char in text).strip()"
   ]
  },
  {
   "cell_type": "code",
   "execution_count": null,
   "metadata": {},
   "outputs": [],
   "source": [
    "# search your emoji    \n",
    "    def is_emoji(s):\n",
    "        return s in UNICODE_EMO"
   ]
  },
  {
   "cell_type": "code",
   "execution_count": null,
   "metadata": {},
   "outputs": [],
   "source": [
    "# Function for converting emoticons into word\n",
    "def convert_emoticons(text):\n",
    "    for emot in EMOTICONS:\n",
    "        text = re.sub(u'('+emot+')', \"_\".join(EMOTICONS[emot].replace(\",\",\"\").split()), text)\n",
    "    return text"
   ]
  },
  {
   "cell_type": "code",
   "execution_count": null,
   "metadata": {},
   "outputs": [],
   "source": [
    "# Function for converting emojis into word\n",
    "def convert_emojis(text):\n",
    "    for emot in UNICODE_EMO:\n",
    "        text = text.replace(emot, \"_\".join(UNICODE_EMO[emot].replace(\",\",\" \").replace(\":\",\" \").split()))\n",
    "    return text"
   ]
  },
  {
   "cell_type": "code",
   "execution_count": null,
   "metadata": {},
   "outputs": [],
   "source": [
    "# Function to remove the stopwords\n",
    "def stopwords(text):\n",
    "    return \" \".join([word for word in str(text).split() if word not in STOPWORDS])"
   ]
  },
  {
   "cell_type": "code",
   "execution_count": null,
   "metadata": {},
   "outputs": [],
   "source": [
    "from bs4 import BeautifulSoup\n",
    "#Function for removing html\n",
    "def html(text):\n",
    "    return BeautifulSoup(text, \"lxml\").text"
   ]
  },
  {
   "cell_type": "code",
   "execution_count": null,
   "metadata": {},
   "outputs": [],
   "source": [
    "def cleaner(data):\n",
    "    '''\n",
    "    Riceve i dati di reddit e li pulisce\n",
    "    @params:\n",
    "        data:   Dati su reddit in formato csv\n",
    "    '''\n",
    "    # Importazione dei dati\n",
    "    df = pd.read_csv(data, sep = \",\")\n",
    "    \n",
    "    # Colonne utili\n",
    "    df= df[['Title']\n",
    "    \n",
    "    #Sostituisco spazi multipli con singoli spazi\n",
    "    df['Title'] = df['Title'].apply(lambda x:re.sub(r'\\s+', ' ', x, flags=re.I))\n",
    "    \n",
    "    #Elimino spazi iniziali\n",
    "    df['Title']= df['Title'].apply(lambda x:re.sub(r\"^ \", \"\", x))\n",
    "    \n",
    "    #Elimino spazi finali\n",
    "    df['Title']= df['Title'].apply(lambda x:re.sub(r\" $\", \"\", x))\n",
    "    \n",
    "    #Aggiungo spazi tra Emoji\n",
    "    df['Title'] = df['Title'].apply(add_space)\n",
    "\n",
    "    #Converting Emoji and Emoticons to words\n",
    "    df['Title'] = df['Title'].apply(convert_emoticons)\n",
    "    df['Title'] = df['Title'].apply(convert_emojis)\n",
    "\n",
    "    #Remove all URLS\n",
    "    df['Title']= df['Title'].apply(lambda x:re.sub(r\"http\\S+\", \"\", x))\n",
    "    \n",
    "    #Lower Casing\n",
    "    df['Title']  = df['Title'].apply(lambda x: x.lower())\n",
    "    \n",
    "    #Removal of Punctuations\n",
    "    df['Title']= df['Title'].apply(lambda x:re.sub(r\"[^\\w\\s]\", \"\", x))\n",
    "    \n",
    "    #Stop-word removal\n",
    "    # Applying the stopwords to 'text_punct' and store into 'text_stop'\n",
    "    df[\"Title\"] = df[\"Title\"].apply(stopwords)\n",
    "    \n",
    "    #Removal of HTML tags\n",
    "    df['Title'] = df['Title'].apply(html)\n",
    "    \n",
    "    #Creo un nuovo dataset pulito\n",
    "    df.to_csv('reddit_pulito.csv')"
   ]
  }
 ],
 "metadata": {
  "kernelspec": {
   "display_name": "Python 3",
   "language": "python",
   "name": "python3"
  },
  "language_info": {
   "codemirror_mode": {
    "name": "ipython",
    "version": 3
   },
   "file_extension": ".py",
   "mimetype": "text/x-python",
   "name": "python",
   "nbconvert_exporter": "python",
   "pygments_lexer": "ipython3",
   "version": "3.7.6"
  }
 },
 "nbformat": 4,
 "nbformat_minor": 4
}
