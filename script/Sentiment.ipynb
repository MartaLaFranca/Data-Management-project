{
 "cells": [
  {
   "cell_type": "code",
   "execution_count": 1,
   "metadata": {},
   "outputs": [],
   "source": [
    "import pandas as pd\n",
    "import re\n",
    "import numpy as np\n",
    "import pymongo\n",
    "import json\n",
    "from nltk.sentiment.vader import SentimentIntensityAnalyzer"
   ]
  },
  {
   "cell_type": "code",
   "execution_count": null,
   "metadata": {},
   "outputs": [],
   "source": [
    "def sentiment(data):\n",
    "    '''\n",
    "    Riceve i dati di reddit e calcola il sentiment\n",
    "    @params:\n",
    "        data:   Dati sul covid in formato csv\n",
    "    '''\n",
    "    # Importazione dei dati\n",
    "    df = pd.read_csv(data, sep = \",\")\n",
    "    \n",
    "    #Istanzia l'analizzatore di sentiment con il lessico esistente\n",
    "    vader = SentimentIntensityAnalyzer()\n",
    "    \n",
    "    #Converto in stringa la colonna \"Title\"\n",
    "    df['Title']=df['Title'].astype(str)\n",
    "    \n",
    "    #Applico la funzione per trovare lo score\n",
    "    scores = df['Title'].apply(vader.polarity_scores)\n",
    "    \n",
    "    # Converto la lista in un DataFrame\n",
    "    scores_df = pd.DataFrame.from_records(scores)\n",
    "    \n",
    "    #Unisco il dataframe appena trovato con il dataframe di riferimento\n",
    "    df= df.join(scores_df)\n",
    "    \n",
    "    #Salvo in formato csv\n",
    "    df.to_csv('reddit_score.csv',index=False)"
   ]
  }
 ],
 "metadata": {
  "kernelspec": {
   "display_name": "Python 3",
   "language": "python",
   "name": "python3"
  },
  "language_info": {
   "codemirror_mode": {
    "name": "ipython",
    "version": 3
   },
   "file_extension": ".py",
   "mimetype": "text/x-python",
   "name": "python",
   "nbconvert_exporter": "python",
   "pygments_lexer": "ipython3",
   "version": "3.7.6"
  }
 },
 "nbformat": 4,
 "nbformat_minor": 4
}
