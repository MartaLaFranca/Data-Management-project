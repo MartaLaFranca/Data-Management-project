{
 "cells": [
  {
   "cell_type": "code",
   "execution_count": null,
   "metadata": {},
   "outputs": [],
   "source": [
    "import pandas as pd\n",
    "import datetime as dt\n",
    "from pymongo import MongoClient"
   ]
  },
  {
   "cell_type": "code",
   "execution_count": null,
   "metadata": {},
   "outputs": [],
   "source": [
    "def merge(reddit, gme,u,p,port):\n",
    "    '''\n",
    "    Funzione di merge tra \n",
    "    @params:\n",
    "        reddit:   submission effettuate sul subreddit (dataframe)\n",
    "        gme:      dati finanziari (dataframe)\n",
    "\n",
    "    '''\n",
    "    # Importazione dei dati\n",
    "    reddit = pd.read_csv(reddit, sep = \",\")\n",
    "    gme = pd.read_csv(gme, sep = \",\")\n",
    "    \n",
    "    #date in formato datetime\n",
    "    gme['DATE']=pd.to_datetime(gme['DATE'], format= '%Y-%m-%d %H:%M:%S')\n",
    "    reddit['Publish Date']=pd.to_datetime(reddit['Publish Date'], format= '%Y-%m-%d %H:%M:%S')  \n",
    "    \n",
    "    #Arrotondiamo al quarto d'ora\n",
    "    reddit['DATE']=reddit['Publish Date'].dt.round('15min')\n",
    "    reddit['DATE']=pd.to_datetime(reddit['DATE'], format= '%Y-%m-%d %H:%M:%S')\n",
    "    \n",
    "    #Merge\n",
    "    gmereddit=pd.merge(gme,reddit, on='DATE',how='right')\n",
    "    \n",
    "    #Salviamo in csv\n",
    "    gmereddit.to_csv('gmereddit_completo_prepost.csv',index=False)\n",
    "    \n",
    "    \n",
    "    ###To mongo\n",
    "    #Rename the column 'Total No. of Comments' because it must not contain '.'\n",
    "    gmereddit = gmereddit.rename(columns={'Total No. of Comments': 'Total No of Comments'})\n",
    "    \n",
    "    #file json\n",
    "    gmereddit.to_json(\"gmereddit.json\",orient=\"records\")\n",
    "\n",
    "    # Definizione del client mongo da utilizzare\n",
    "    myclient = MongoClient('localhost', int(port), username = u, password = p)\n",
    "\n",
    "    db = client[\"DataMan\"] # Connessione al db\n",
    "    collection = db[\"gmereddit\"] # Connessione alla collection\n",
    "\n",
    "    gmereddit_collection = db.get_collection(\"gmereddit\")\n",
    "\n",
    "    with open(\"gmereddit.json\") as f:\n",
    "        file_data = json.load(f)\n",
    "\n",
    "    # insert the data into the collection\n",
    "    gmereddit_collection.insert_many(file_data)\n"
   ]
  },
  {
   "cell_type": "code",
   "execution_count": null,
   "metadata": {},
   "outputs": [],
   "source": [
    "#Query di prova\n",
    "gmereddit_collection.find_one()\n",
    "gmereddit_collection.find_one( {\"Score\" : 8} )"
   ]
  }
 ],
 "metadata": {
  "kernelspec": {
   "display_name": "Python 3",
   "language": "python",
   "name": "python3"
  },
  "language_info": {
   "codemirror_mode": {
    "name": "ipython",
    "version": 3
   },
   "file_extension": ".py",
   "mimetype": "text/x-python",
   "name": "python",
   "nbconvert_exporter": "python",
   "pygments_lexer": "ipython3",
   "version": "3.7.6"
  }
 },
 "nbformat": 4,
 "nbformat_minor": 4
}
